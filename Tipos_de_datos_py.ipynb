{
  "nbformat": 4,
  "nbformat_minor": 0,
  "metadata": {
    "colab": {
      "name": "Tipos_de_datos_py.ipynb",
      "provenance": [],
      "collapsed_sections": [],
      "authorship_tag": "ABX9TyMGr8Nu2ydrFqw0MoncXO2R",
      "include_colab_link": true
    },
    "kernelspec": {
      "name": "python3",
      "display_name": "Python 3"
    },
    "language_info": {
      "name": "python"
    }
  },
  "cells": [
    {
      "cell_type": "markdown",
      "metadata": {
        "id": "view-in-github",
        "colab_type": "text"
      },
      "source": [
        "<a href=\"https://colab.research.google.com/github/junior0428/GEE/blob/master/Tipos_de_datos_py.ipynb\" target=\"_parent\"><img src=\"https://colab.research.google.com/assets/colab-badge.svg\" alt=\"Open In Colab\"/></a>"
      ]
    },
    {
      "cell_type": "markdown",
      "metadata": {
        "id": "nBDnMoclkLpJ"
      },
      "source": [
        "### **Python como calculadora**"
      ]
    },
    {
      "cell_type": "code",
      "metadata": {
        "colab": {
          "base_uri": "https://localhost:8080/"
        },
        "id": "Nm9WKe4xkQUl",
        "outputId": "eda2b143-2c8d-40bb-beb8-8e37311c1039"
      },
      "source": [
        "2+2"
      ],
      "execution_count": 1,
      "outputs": [
        {
          "output_type": "execute_result",
          "data": {
            "text/plain": [
              "4"
            ]
          },
          "metadata": {
            "tags": []
          },
          "execution_count": 1
        }
      ]
    },
    {
      "cell_type": "code",
      "metadata": {
        "colab": {
          "base_uri": "https://localhost:8080/"
        },
        "id": "HDUXhP5VlBBg",
        "outputId": "ea943a01-d291-431b-c6aa-9ba17bafef58"
      },
      "source": [
        "20%7"
      ],
      "execution_count": 3,
      "outputs": [
        {
          "output_type": "execute_result",
          "data": {
            "text/plain": [
              "6"
            ]
          },
          "metadata": {
            "tags": []
          },
          "execution_count": 3
        }
      ]
    },
    {
      "cell_type": "markdown",
      "metadata": {
        "id": "hJoZcOCdlGzN"
      },
      "source": [
        "###**Tipos de datos**"
      ]
    },
    {
      "cell_type": "markdown",
      "metadata": {
        "id": "m7R1ARuOl4KD"
      },
      "source": [
        "Numerico"
      ]
    },
    {
      "cell_type": "code",
      "metadata": {
        "colab": {
          "base_uri": "https://localhost:8080/"
        },
        "id": "6SKe_srSlMhb",
        "outputId": "a5cf0644-408e-4a83-84c3-9b75e8d67eaa"
      },
      "source": [
        "type(10)"
      ],
      "execution_count": 4,
      "outputs": [
        {
          "output_type": "execute_result",
          "data": {
            "text/plain": [
              "int"
            ]
          },
          "metadata": {
            "tags": []
          },
          "execution_count": 4
        }
      ]
    },
    {
      "cell_type": "code",
      "metadata": {
        "colab": {
          "base_uri": "https://localhost:8080/"
        },
        "id": "5wUiEjVRljbw",
        "outputId": "3ccd7f8b-8379-49e9-a0da-c60dc2220bef"
      },
      "source": [
        "type(10.5)"
      ],
      "execution_count": 5,
      "outputs": [
        {
          "output_type": "execute_result",
          "data": {
            "text/plain": [
              "float"
            ]
          },
          "metadata": {
            "tags": []
          },
          "execution_count": 5
        }
      ]
    },
    {
      "cell_type": "markdown",
      "metadata": {
        "id": "5nJR5kmTl64U"
      },
      "source": [
        "Cadena de caracteres"
      ]
    },
    {
      "cell_type": "code",
      "metadata": {
        "colab": {
          "base_uri": "https://localhost:8080/"
        },
        "id": "y633Svhdl99o",
        "outputId": "dd569caa-f407-46e8-8646-ad41f9b5df98"
      },
      "source": [
        "type('Junior')"
      ],
      "execution_count": 6,
      "outputs": [
        {
          "output_type": "execute_result",
          "data": {
            "text/plain": [
              "str"
            ]
          },
          "metadata": {
            "tags": []
          },
          "execution_count": 6
        }
      ]
    },
    {
      "cell_type": "code",
      "metadata": {
        "colab": {
          "base_uri": "https://localhost:8080/"
        },
        "id": "LqRIzoS-mWAs",
        "outputId": "1b2d7278-dc8c-44c1-9725-51dfd075d942"
      },
      "source": [
        "type('10.5')"
      ],
      "execution_count": 7,
      "outputs": [
        {
          "output_type": "execute_result",
          "data": {
            "text/plain": [
              "str"
            ]
          },
          "metadata": {
            "tags": []
          },
          "execution_count": 7
        }
      ]
    },
    {
      "cell_type": "code",
      "metadata": {
        "colab": {
          "base_uri": "https://localhost:8080/"
        },
        "id": "1aZMIf38mlzU",
        "outputId": "4eeab35d-843c-459b-c1a7-4361b92fee55"
      },
      "source": [
        "type(eval('10.5'))"
      ],
      "execution_count": 9,
      "outputs": [
        {
          "output_type": "execute_result",
          "data": {
            "text/plain": [
              "float"
            ]
          },
          "metadata": {
            "tags": []
          },
          "execution_count": 9
        }
      ]
    },
    {
      "cell_type": "code",
      "metadata": {
        "colab": {
          "base_uri": "https://localhost:8080/"
        },
        "id": "tmPF13x9mrHb",
        "outputId": "58659e68-39c6-4cf2-b950-80e34f07bfbd"
      },
      "source": [
        "eval('40.5') +eval('20.7')"
      ],
      "execution_count": 10,
      "outputs": [
        {
          "output_type": "execute_result",
          "data": {
            "text/plain": [
              "61.2"
            ]
          },
          "metadata": {
            "tags": []
          },
          "execution_count": 10
        }
      ]
    },
    {
      "cell_type": "code",
      "metadata": {
        "colab": {
          "base_uri": "https://localhost:8080/",
          "height": 35
        },
        "id": "rHECoCKnm61s",
        "outputId": "648a08bf-1960-41a0-b8bd-9a7635f40504"
      },
      "source": [
        "'hello'+' '+'world'"
      ],
      "execution_count": 12,
      "outputs": [
        {
          "output_type": "execute_result",
          "data": {
            "application/vnd.google.colaboratory.intrinsic+json": {
              "type": "string"
            },
            "text/plain": [
              "'hello world'"
            ]
          },
          "metadata": {
            "tags": []
          },
          "execution_count": 12
        }
      ]
    },
    {
      "cell_type": "code",
      "metadata": {
        "colab": {
          "base_uri": "https://localhost:8080/"
        },
        "id": "r3Kl3DkDnLJq",
        "outputId": "a5bde38c-f88b-4cd4-e09f-715e9e14242f"
      },
      "source": [
        "len('junior')"
      ],
      "execution_count": 13,
      "outputs": [
        {
          "output_type": "execute_result",
          "data": {
            "text/plain": [
              "6"
            ]
          },
          "metadata": {
            "tags": []
          },
          "execution_count": 13
        }
      ]
    },
    {
      "cell_type": "markdown",
      "metadata": {
        "id": "S9wTk7eGnlyg"
      },
      "source": [
        "### Indexing y slicing"
      ]
    },
    {
      "cell_type": "code",
      "metadata": {
        "colab": {
          "base_uri": "https://localhost:8080/",
          "height": 35
        },
        "id": "ncFj0Ro2np11",
        "outputId": "142d0914-2a8c-4e26-c48d-1e329d88a44a"
      },
      "source": [
        "'junior'[0]"
      ],
      "execution_count": 14,
      "outputs": [
        {
          "output_type": "execute_result",
          "data": {
            "application/vnd.google.colaboratory.intrinsic+json": {
              "type": "string"
            },
            "text/plain": [
              "'j'"
            ]
          },
          "metadata": {
            "tags": []
          },
          "execution_count": 14
        }
      ]
    },
    {
      "cell_type": "code",
      "metadata": {
        "colab": {
          "base_uri": "https://localhost:8080/",
          "height": 35
        },
        "id": "Q8OirvvWn5fe",
        "outputId": "91d2e0c3-d215-4247-dc4d-11c37f9fbc9f"
      },
      "source": [
        "'junior'[-1]"
      ],
      "execution_count": 15,
      "outputs": [
        {
          "output_type": "execute_result",
          "data": {
            "application/vnd.google.colaboratory.intrinsic+json": {
              "type": "string"
            },
            "text/plain": [
              "'r'"
            ]
          },
          "metadata": {
            "tags": []
          },
          "execution_count": 15
        }
      ]
    },
    {
      "cell_type": "code",
      "metadata": {
        "colab": {
          "base_uri": "https://localhost:8080/",
          "height": 35
        },
        "id": "rdDV514SoCUh",
        "outputId": "d5ed92fc-bb0a-4595-9549-7f00fa7a59b5"
      },
      "source": [
        "'juniorcalvo'[0:12]"
      ],
      "execution_count": 17,
      "outputs": [
        {
          "output_type": "execute_result",
          "data": {
            "application/vnd.google.colaboratory.intrinsic+json": {
              "type": "string"
            },
            "text/plain": [
              "'juniorcalvo'"
            ]
          },
          "metadata": {
            "tags": []
          },
          "execution_count": 17
        }
      ]
    },
    {
      "cell_type": "markdown",
      "metadata": {
        "id": "0sJxZmlEsnT9"
      },
      "source": [
        "### Logicos\n",
        "- 1=True\n",
        "- 0=False\n",
        "- None= vacio"
      ]
    },
    {
      "cell_type": "markdown",
      "metadata": {
        "id": "ND1GFUBQwlNh"
      },
      "source": [
        "## Asignación de Variables"
      ]
    },
    {
      "cell_type": "code",
      "metadata": {
        "colab": {
          "base_uri": "https://localhost:8080/",
          "height": 35
        },
        "id": "9KI9haWYwpIz",
        "outputId": "ca03f073-78dd-47e1-d24c-8ddf6ed1d880"
      },
      "source": [
        "nombre='Junior'\n",
        "nombre"
      ],
      "execution_count": 18,
      "outputs": [
        {
          "output_type": "execute_result",
          "data": {
            "application/vnd.google.colaboratory.intrinsic+json": {
              "type": "string"
            },
            "text/plain": [
              "'Junior'"
            ]
          },
          "metadata": {
            "tags": []
          },
          "execution_count": 18
        }
      ]
    },
    {
      "cell_type": "code",
      "metadata": {
        "colab": {
          "base_uri": "https://localhost:8080/",
          "height": 35
        },
        "id": "XXa3_zj-wz5p",
        "outputId": "4596c1a8-9054-45f8-d83a-78111d6acb42"
      },
      "source": [
        "nombre2='calvo'\n",
        "nombre2"
      ],
      "execution_count": 19,
      "outputs": [
        {
          "output_type": "execute_result",
          "data": {
            "application/vnd.google.colaboratory.intrinsic+json": {
              "type": "string"
            },
            "text/plain": [
              "'calvo'"
            ]
          },
          "metadata": {
            "tags": []
          },
          "execution_count": 19
        }
      ]
    },
    {
      "cell_type": "code",
      "metadata": {
        "colab": {
          "base_uri": "https://localhost:8080/",
          "height": 35
        },
        "id": "WaTizGGCw6Rt",
        "outputId": "0b0f1c42-e7c3-4658-dd11-7354af73a36b"
      },
      "source": [
        "nombre + ' ' + nombre2"
      ],
      "execution_count": 22,
      "outputs": [
        {
          "output_type": "execute_result",
          "data": {
            "application/vnd.google.colaboratory.intrinsic+json": {
              "type": "string"
            },
            "text/plain": [
              "'Junior calvo'"
            ]
          },
          "metadata": {
            "tags": []
          },
          "execution_count": 22
        }
      ]
    },
    {
      "cell_type": "code",
      "metadata": {
        "colab": {
          "base_uri": "https://localhost:8080/"
        },
        "id": "pKbLl6_yw-9q",
        "outputId": "abff5f6e-6221-439e-c01e-cc021b6c3d99"
      },
      "source": [
        "mis_ingreso=1000\n",
        "mis_impuesto=0.1\n",
        "mis_ingre_neto=mis_ingreso*mis_impuesto\n",
        "mis_ingre_neto"
      ],
      "execution_count": 25,
      "outputs": [
        {
          "output_type": "execute_result",
          "data": {
            "text/plain": [
              "100.0"
            ]
          },
          "metadata": {
            "tags": []
          },
          "execution_count": 25
        }
      ]
    },
    {
      "cell_type": "code",
      "metadata": {
        "id": "eahxfw9WxQ0y"
      },
      "source": [
        "None"
      ],
      "execution_count": null,
      "outputs": []
    }
  ]
}