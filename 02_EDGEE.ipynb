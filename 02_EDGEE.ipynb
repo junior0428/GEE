{
  "nbformat": 4,
  "nbformat_minor": 0,
  "metadata": {
    "colab": {
      "name": "02_EDGEE.ipynb",
      "provenance": [],
      "authorship_tag": "ABX9TyPd5SxoH6xgGAmkdnHB100A",
      "include_colab_link": true
    },
    "kernelspec": {
      "name": "python3",
      "display_name": "Python 3"
    },
    "language_info": {
      "name": "python"
    }
  },
  "cells": [
    {
      "cell_type": "markdown",
      "metadata": {
        "id": "view-in-github",
        "colab_type": "text"
      },
      "source": [
        "<a href=\"https://colab.research.google.com/github/junior0428/GEE/blob/main/02_EDGEE.ipynb\" target=\"_parent\"><img src=\"https://colab.research.google.com/assets/colab-badge.svg\" alt=\"Open In Colab\"/></a>"
      ]
    },
    {
      "cell_type": "code",
      "metadata": {
        "id": "u0lQa2JuTCR_"
      },
      "source": [
        "import ee\n",
        "#ee.Authenticate()\n",
        "ee.Initialize()"
      ],
      "execution_count": 4,
      "outputs": []
    },
    {
      "cell_type": "code",
      "metadata": {
        "cellView": "form",
        "id": "tFp6163RVVGM"
      },
      "source": [
        "\n",
        "#@title mapdisplay: Crea mapas interactivos usando folium\n",
        "import folium\n",
        "def mapdisplay(center, dicc, Tiles=\"OpensTreetMap\",zoom_start=10):\n",
        "    '''\n",
        "    :param center: Center of the map (Latitude and Longitude).\n",
        "    :param dicc: Earth Engine Geometries or Tiles dictionary\n",
        "    :param Tiles: Mapbox Bright,Mapbox Control Room,Stamen Terrain,Stamen Toner,stamenwatercolor,cartodbpositron.\n",
        "    :zoom_start: Initial zoom level for the map.\n",
        "    :return: A folium.Map object.\n",
        "    '''\n",
        "    center = center[::-1]\n",
        "    mapViz = folium.Map(location=center,tiles=Tiles, zoom_start=zoom_start)\n",
        "    for k,v in dicc.items():\n",
        "      if ee.image.Image in [type(x) for x in v.values()]:\n",
        "        folium.TileLayer(\n",
        "            tiles = v[\"tile_fetcher\"].url_format,\n",
        "            attr  = 'Google Earth Engine',\n",
        "            overlay =True,\n",
        "            name  = k\n",
        "          ).add_to(mapViz)\n",
        "      else:\n",
        "        folium.GeoJson(\n",
        "        data = v,\n",
        "        name = k\n",
        "          ).add_to(mapViz)\n",
        "    mapViz.add_child(folium.LayerControl())\n",
        "    return mapViz"
      ],
      "execution_count": 5,
      "outputs": []
    },
    {
      "cell_type": "code",
      "metadata": {
        "id": "WoU_a0tbWNN7"
      },
      "source": [
        "image1=ee.Image(1)\n",
        "print(image1)\n",
        "image1.getInfo()"
      ],
      "execution_count": null,
      "outputs": []
    },
    {
      "cell_type": "code",
      "metadata": {
        "id": "AZTM38aIXJn-"
      },
      "source": [
        "#concatenar bandas \n",
        "image2=ee.Image(20)\n",
        "image3=ee.Image.cat([image1, image2])\n",
        "image3.getInfo()"
      ],
      "execution_count": null,
      "outputs": []
    },
    {
      "cell_type": "code",
      "metadata": {
        "id": "9N432PmZYczm"
      },
      "source": [
        "#otra forma de concatenar bandas \n",
        "imag=ee.Image([10,30])\n",
        "imag.getInfo()"
      ],
      "execution_count": null,
      "outputs": []
    },
    {
      "cell_type": "code",
      "metadata": {
        "id": "w1ZfKNEEYrrC"
      },
      "source": [
        "#Otra forma de concatenar bandas que es mas utilizado\n",
        "image4=image1.addBands(imag)\n",
        "image4.getInfo()"
      ],
      "execution_count": null,
      "outputs": []
    },
    {
      "cell_type": "code",
      "metadata": {
        "colab": {
          "base_uri": "https://localhost:8080/"
        },
        "id": "jlnjDnjnZz66",
        "outputId": "3c2f1a75-c495-43c4-f787-c9d4ce1755a1"
      },
      "source": [
        "#rename\n",
        "image4.bandNames().getInfo()\n"
      ],
      "execution_count": 15,
      "outputs": [
        {
          "output_type": "execute_result",
          "data": {
            "text/plain": [
              "['constant', 'constant_1', 'constant_1_1']"
            ]
          },
          "metadata": {
            "tags": []
          },
          "execution_count": 15
        }
      ]
    }
  ]
}