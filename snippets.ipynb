{
  "nbformat": 4,
  "nbformat_minor": 0,
  "metadata": {
    "colab": {
      "name": "snippets.ipynb",
      "provenance": [],
      "collapsed_sections": [],
      "toc_visible": true,
      "authorship_tag": "ABX9TyN4+cocYOPi9pBP1sCRP3CP",
      "include_colab_link": true
    },
    "kernelspec": {
      "name": "python3",
      "display_name": "Python 3"
    },
    "language_info": {
      "name": "python"
    }
  },
  "cells": [
    {
      "cell_type": "markdown",
      "metadata": {
        "id": "view-in-github",
        "colab_type": "text"
      },
      "source": [
        "<a href=\"https://colab.research.google.com/github/junior0428/GEE/blob/master/snippets.ipynb\" target=\"_parent\"><img src=\"https://colab.research.google.com/assets/colab-badge.svg\" alt=\"Open In Colab\"/></a>"
      ]
    },
    {
      "cell_type": "markdown",
      "metadata": {
        "id": "gvMkJgkHdUsB"
      },
      "source": [
        "### **Comandos basicos de Linux**\n",
        "- pwd: ver nuestra ubicación \n",
        "- ls: hacer un listado de nuestros archivos\n",
        "- cd: cambiar la ruta \n",
        "- cp: nor permitira copiar documentos\n"
      ]
    },
    {
      "cell_type": "code",
      "metadata": {
        "id": "qJM5wbWUdNHW"
      },
      "source": [
        "!pwd\n",
        "!ls\n",
        "cd\n",
        "!cp"
      ],
      "execution_count": null,
      "outputs": []
    }
  ]
}