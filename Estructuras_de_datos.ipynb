{
  "nbformat": 4,
  "nbformat_minor": 0,
  "metadata": {
    "colab": {
      "name": "Estructuras_de_datos.ipynb",
      "provenance": [],
      "collapsed_sections": [],
      "authorship_tag": "ABX9TyPWuZGyeKwjEIMj6+bgCz8L",
      "include_colab_link": true
    },
    "kernelspec": {
      "name": "python3",
      "display_name": "Python 3"
    },
    "language_info": {
      "name": "python"
    }
  },
  "cells": [
    {
      "cell_type": "markdown",
      "metadata": {
        "id": "view-in-github",
        "colab_type": "text"
      },
      "source": [
        "<a href=\"https://colab.research.google.com/github/junior0428/GEE/blob/master/Estructuras_de_datos.ipynb\" target=\"_parent\"><img src=\"https://colab.research.google.com/assets/colab-badge.svg\" alt=\"Open In Colab\"/></a>"
      ]
    },
    {
      "cell_type": "markdown",
      "metadata": {
        "id": "NDxoUqkGyJkC"
      },
      "source": [
        "##**Listas**"
      ]
    },
    {
      "cell_type": "code",
      "metadata": {
        "id": "rv-If5lKyNlH"
      },
      "source": [
        "lis_01=[1,2,3,4,5,6]"
      ],
      "execution_count": 6,
      "outputs": []
    },
    {
      "cell_type": "code",
      "metadata": {
        "id": "urhk_-gGygNT"
      },
      "source": [
        "lis_02=[1,2,3, True, 'Hello World']"
      ],
      "execution_count": 7,
      "outputs": []
    },
    {
      "cell_type": "code",
      "metadata": {
        "colab": {
          "base_uri": "https://localhost:8080/"
        },
        "id": "NR6T2lwxyqYD",
        "outputId": "71efb567-72c7-428a-cb61-503813c79352"
      },
      "source": [
        "len(lis_02)"
      ],
      "execution_count": 8,
      "outputs": [
        {
          "output_type": "execute_result",
          "data": {
            "text/plain": [
              "5"
            ]
          },
          "metadata": {
            "tags": []
          },
          "execution_count": 8
        }
      ]
    },
    {
      "cell_type": "markdown",
      "metadata": {
        "id": "-CHGAsTozHrx"
      },
      "source": [
        "## Indexing y Slacing"
      ]
    },
    {
      "cell_type": "code",
      "metadata": {
        "colab": {
          "base_uri": "https://localhost:8080/",
          "height": 35
        },
        "id": "i6HRJ8m6zMbS",
        "outputId": "0000f934-a46f-45f6-cb23-c00d6037709b"
      },
      "source": [
        "lis_02[4]"
      ],
      "execution_count": 9,
      "outputs": [
        {
          "output_type": "execute_result",
          "data": {
            "application/vnd.google.colaboratory.intrinsic+json": {
              "type": "string"
            },
            "text/plain": [
              "'Hello World'"
            ]
          },
          "metadata": {
            "tags": []
          },
          "execution_count": 9
        }
      ]
    },
    {
      "cell_type": "code",
      "metadata": {
        "colab": {
          "base_uri": "https://localhost:8080/"
        },
        "id": "W3PtwIm8zayY",
        "outputId": "c7531370-2bf1-4ce1-a844-3938d50371b9"
      },
      "source": [
        "lis_01[0:6]"
      ],
      "execution_count": 10,
      "outputs": [
        {
          "output_type": "execute_result",
          "data": {
            "text/plain": [
              "[1, 2, 3, 4, 5, 6]"
            ]
          },
          "metadata": {
            "tags": []
          },
          "execution_count": 10
        }
      ]
    },
    {
      "cell_type": "markdown",
      "metadata": {
        "id": "QPaE3CYZzh-N"
      },
      "source": [
        "###Agregar un elemento  a una lista"
      ]
    },
    {
      "cell_type": "code",
      "metadata": {
        "colab": {
          "base_uri": "https://localhost:8080/"
        },
        "id": "irxmfyurzmkP",
        "outputId": "66cc797a-f50a-4602-d976-0319dcd0b9a4"
      },
      "source": [
        "lis_01 + [7]"
      ],
      "execution_count": 11,
      "outputs": [
        {
          "output_type": "execute_result",
          "data": {
            "text/plain": [
              "[1, 2, 3, 4, 5, 6, 7]"
            ]
          },
          "metadata": {
            "tags": []
          },
          "execution_count": 11
        }
      ]
    },
    {
      "cell_type": "code",
      "metadata": {
        "colab": {
          "base_uri": "https://localhost:8080/"
        },
        "id": "qoSSeppyzrIK",
        "outputId": "c80dbcc7-5e6a-4d1f-93ce-281e857f8662"
      },
      "source": [
        "lis_01"
      ],
      "execution_count": 12,
      "outputs": [
        {
          "output_type": "execute_result",
          "data": {
            "text/plain": [
              "[1, 2, 3, 4, 5, 6]"
            ]
          },
          "metadata": {
            "tags": []
          },
          "execution_count": 12
        }
      ]
    },
    {
      "cell_type": "code",
      "metadata": {
        "colab": {
          "base_uri": "https://localhost:8080/"
        },
        "id": "hH3vbwGVzvD-",
        "outputId": "2f93ead3-12e6-4163-ce9a-a7e8da47a651"
      },
      "source": [
        "lis_01=lis_01 + [7]\n",
        "lis_01"
      ],
      "execution_count": 13,
      "outputs": [
        {
          "output_type": "execute_result",
          "data": {
            "text/plain": [
              "[1, 2, 3, 4, 5, 6, 7]"
            ]
          },
          "metadata": {
            "tags": []
          },
          "execution_count": 13
        }
      ]
    },
    {
      "cell_type": "markdown",
      "metadata": {
        "id": "dg8TPrgNz9OY"
      },
      "source": [
        "###Metodos de una lista"
      ]
    },
    {
      "cell_type": "code",
      "metadata": {
        "colab": {
          "base_uri": "https://localhost:8080/"
        },
        "id": "PxSCRcPJz_he",
        "outputId": "cba67970-d45d-42f5-ca29-9bd5f17b86ed"
      },
      "source": [
        "lis_01.append(9)\n",
        "lis_01"
      ],
      "execution_count": 16,
      "outputs": [
        {
          "output_type": "execute_result",
          "data": {
            "text/plain": [
              "[1, 2, 3, 4, 5, 6, 7, 8, 8, 9]"
            ]
          },
          "metadata": {
            "tags": []
          },
          "execution_count": 16
        }
      ]
    },
    {
      "cell_type": "code",
      "metadata": {
        "colab": {
          "base_uri": "https://localhost:8080/"
        },
        "id": "N7JZ65Z7038R",
        "outputId": "d2a56127-3d8e-4880-b24f-5c0df11e0d1d"
      },
      "source": [
        "lis_01.reverse()\n",
        "lis_01"
      ],
      "execution_count": 19,
      "outputs": [
        {
          "output_type": "execute_result",
          "data": {
            "text/plain": [
              "[9, 8, 8, 7, 6, 5, 4, 3, 2, 1]"
            ]
          },
          "metadata": {
            "tags": []
          },
          "execution_count": 19
        }
      ]
    },
    {
      "cell_type": "code",
      "metadata": {
        "colab": {
          "base_uri": "https://localhost:8080/"
        },
        "id": "L0ttkh8S1T70",
        "outputId": "2b704582-2b43-4df4-81cf-6e1305eb27f2"
      },
      "source": [
        "lis_01.sort()\n",
        "lis_01"
      ],
      "execution_count": 21,
      "outputs": [
        {
          "output_type": "execute_result",
          "data": {
            "text/plain": [
              "[1, 2, 3, 4, 5, 6, 7, 8, 8, 9]"
            ]
          },
          "metadata": {
            "tags": []
          },
          "execution_count": 21
        }
      ]
    },
    {
      "cell_type": "code",
      "metadata": {
        "colab": {
          "base_uri": "https://localhost:8080/"
        },
        "id": "RR4NpwkT1XBd",
        "outputId": "f90d364e-3981-4480-f301-ed81d5b5977a"
      },
      "source": [
        "lis_01.remove(8)\n",
        "lis_01"
      ],
      "execution_count": 22,
      "outputs": [
        {
          "output_type": "execute_result",
          "data": {
            "text/plain": [
              "[1, 2, 3, 4, 5, 6, 7, 8, 9]"
            ]
          },
          "metadata": {
            "tags": []
          },
          "execution_count": 22
        }
      ]
    },
    {
      "cell_type": "markdown",
      "metadata": {
        "id": "VwPAgQpk1w6_"
      },
      "source": [
        "### Diccionarios"
      ]
    },
    {
      "cell_type": "code",
      "metadata": {
        "colab": {
          "base_uri": "https://localhost:8080/"
        },
        "id": "OgzFduqz1zbt",
        "outputId": "a65226aa-4b1e-44fb-f9df-3541119f3643"
      },
      "source": [
        "my_dic_01={'dia_de_la_semana': ['L', 'M', 'M', 'J', 'V', 'S', 'D'], 'nombre': 'Junior', 'Edad':25, 'Estatura': 1.69}\n",
        "my_dic_01"
      ],
      "execution_count": 34,
      "outputs": [
        {
          "output_type": "execute_result",
          "data": {
            "text/plain": [
              "{'Edad': 25,\n",
              " 'Estatura': 1.69,\n",
              " 'dia_de_la_semana': ['L', 'M', 'M', 'J', 'V', 'S', 'D'],\n",
              " 'nombre': 'Junior'}"
            ]
          },
          "metadata": {
            "tags": []
          },
          "execution_count": 34
        }
      ]
    },
    {
      "cell_type": "code",
      "metadata": {
        "colab": {
          "base_uri": "https://localhost:8080/",
          "height": 35
        },
        "id": "z_ScyJ-e2-a9",
        "outputId": "94940c67-c415-4346-d048-4a2097e5cef6"
      },
      "source": [
        "my_dic_01['dia_de_la_semana'][2]"
      ],
      "execution_count": 26,
      "outputs": [
        {
          "output_type": "execute_result",
          "data": {
            "application/vnd.google.colaboratory.intrinsic+json": {
              "type": "string"
            },
            "text/plain": [
              "'M'"
            ]
          },
          "metadata": {
            "tags": []
          },
          "execution_count": 26
        }
      ]
    },
    {
      "cell_type": "code",
      "metadata": {
        "colab": {
          "base_uri": "https://localhost:8080/"
        },
        "id": "9SnBKdht3UcZ",
        "outputId": "26207356-bd04-48e4-84e6-11e6680bd594"
      },
      "source": [
        "my_dic_01['Estatura']"
      ],
      "execution_count": 27,
      "outputs": [
        {
          "output_type": "execute_result",
          "data": {
            "text/plain": [
              "1.69"
            ]
          },
          "metadata": {
            "tags": []
          },
          "execution_count": 27
        }
      ]
    },
    {
      "cell_type": "code",
      "metadata": {
        "id": "QzOD9GfL3eg0"
      },
      "source": [
        "my_dic_01['Peso']=71"
      ],
      "execution_count": 35,
      "outputs": []
    },
    {
      "cell_type": "code",
      "metadata": {
        "colab": {
          "base_uri": "https://localhost:8080/"
        },
        "id": "K7Qgi8fp3jt7",
        "outputId": "efa84509-4a01-4653-98d5-888bcfdb363a"
      },
      "source": [
        "my_dic_01"
      ],
      "execution_count": 36,
      "outputs": [
        {
          "output_type": "execute_result",
          "data": {
            "text/plain": [
              "{'Edad': 25,\n",
              " 'Estatura': 1.69,\n",
              " 'Peso': 71,\n",
              " 'dia_de_la_semana': ['L', 'M', 'M', 'J', 'V', 'S', 'D'],\n",
              " 'nombre': 'Junior'}"
            ]
          },
          "metadata": {
            "tags": []
          },
          "execution_count": 36
        }
      ]
    },
    {
      "cell_type": "markdown",
      "metadata": {
        "id": "g1JqP18J395M"
      },
      "source": [
        "### Metodos de una diccionario"
      ]
    },
    {
      "cell_type": "code",
      "metadata": {
        "colab": {
          "base_uri": "https://localhost:8080/"
        },
        "id": "PEzc-Tv54DsW",
        "outputId": "efc69668-1d6d-4964-f8ec-2096272b2007"
      },
      "source": [
        "my_dic_01.keys()"
      ],
      "execution_count": 38,
      "outputs": [
        {
          "output_type": "execute_result",
          "data": {
            "text/plain": [
              "dict_keys(['dia_de_la_semana', 'nombre', 'Edad', 'Estatura', 'Peso'])"
            ]
          },
          "metadata": {
            "tags": []
          },
          "execution_count": 38
        }
      ]
    },
    {
      "cell_type": "code",
      "metadata": {
        "colab": {
          "base_uri": "https://localhost:8080/"
        },
        "id": "RVHQL0ru5_iL",
        "outputId": "3e1f2e65-f219-489b-e110-24852b64af9e"
      },
      "source": [
        "my_dic_01.values()"
      ],
      "execution_count": 39,
      "outputs": [
        {
          "output_type": "execute_result",
          "data": {
            "text/plain": [
              "dict_values([['L', 'M', 'M', 'J', 'V', 'S', 'D'], 'Junior', 25, 1.69, 71])"
            ]
          },
          "metadata": {
            "tags": []
          },
          "execution_count": 39
        }
      ]
    },
    {
      "cell_type": "markdown",
      "metadata": {
        "id": "6Hsgutt86LxY"
      },
      "source": [
        "  ### Anidaciones "
      ]
    },
    {
      "cell_type": "code",
      "metadata": {
        "colab": {
          "base_uri": "https://localhost:8080/"
        },
        "id": "C_X6ATn961AD",
        "outputId": "2fc98324-da5c-42ca-ed88-c6dcc169cf4c"
      },
      "source": [
        "list_ani_01=[1,2,3,[1,2,3,[5, 6,7]]]\n",
        "list_ani_01"
      ],
      "execution_count": 40,
      "outputs": [
        {
          "output_type": "execute_result",
          "data": {
            "text/plain": [
              "[1, 2, 3, [1, 2, 3, [5, 6, 7]]]"
            ]
          },
          "metadata": {
            "tags": []
          },
          "execution_count": 40
        }
      ]
    },
    {
      "cell_type": "code",
      "metadata": {
        "colab": {
          "base_uri": "https://localhost:8080/"
        },
        "id": "l4wFaD017H1I",
        "outputId": "4c897b50-10c7-471a-fe41-ab30800a70df"
      },
      "source": [
        "list_ani_01[3][3][2]"
      ],
      "execution_count": 41,
      "outputs": [
        {
          "output_type": "execute_result",
          "data": {
            "text/plain": [
              "7"
            ]
          },
          "metadata": {
            "tags": []
          },
          "execution_count": 41
        }
      ]
    },
    {
      "cell_type": "code",
      "metadata": {
        "colab": {
          "base_uri": "https://localhost:8080/"
        },
        "id": "d5cAPwZX78sH",
        "outputId": "8272f62b-c1a4-4b8d-8b1e-a9714720f99f"
      },
      "source": [
        "list_ani_02={'key_01': {'key_02': {'key_03': [1,2,3,[4,5,6,7, 'Hello World']]}}}\n",
        "list_ani_02"
      ],
      "execution_count": 42,
      "outputs": [
        {
          "output_type": "execute_result",
          "data": {
            "text/plain": [
              "{'key_01': {'key_02': {'key_03': [1, 2, 3, [4, 5, 6, 7, 'Hello World']]}}}"
            ]
          },
          "metadata": {
            "tags": []
          },
          "execution_count": 42
        }
      ]
    },
    {
      "cell_type": "code",
      "metadata": {
        "colab": {
          "base_uri": "https://localhost:8080/",
          "height": 35
        },
        "id": "mGxRbB6T82EV",
        "outputId": "4cdad538-ae5c-4556-8b17-9a4b39e725b0"
      },
      "source": [
        "list_ani_02['key_01']['key_02']['key_03'][3][4]"
      ],
      "execution_count": 46,
      "outputs": [
        {
          "output_type": "execute_result",
          "data": {
            "application/vnd.google.colaboratory.intrinsic+json": {
              "type": "string"
            },
            "text/plain": [
              "'Hello World'"
            ]
          },
          "metadata": {
            "tags": []
          },
          "execution_count": 46
        }
      ]
    }
  ]
}