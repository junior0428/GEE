{
  "nbformat": 4,
  "nbformat_minor": 0,
  "metadata": {
    "colab": {
      "name": "04_ifelseelif_practica.ipynb",
      "provenance": [],
      "collapsed_sections": [],
      "authorship_tag": "ABX9TyNZAf4u64BUQaLbMIaSTD2j",
      "include_colab_link": true
    },
    "kernelspec": {
      "name": "python3",
      "display_name": "Python 3"
    },
    "language_info": {
      "name": "python"
    }
  },
  "cells": [
    {
      "cell_type": "markdown",
      "metadata": {
        "id": "view-in-github",
        "colab_type": "text"
      },
      "source": [
        "<a href=\"https://colab.research.google.com/github/junior0428/GEE/blob/master/04_ifelseelif_practica.ipynb\" target=\"_parent\"><img src=\"https://colab.research.google.com/assets/colab-badge.svg\" alt=\"Open In Colab\"/></a>"
      ]
    },
    {
      "cell_type": "code",
      "metadata": {
        "colab": {
          "base_uri": "https://localhost:8080/"
        },
        "id": "myvFFgf9A6OF",
        "outputId": "2c098110-1ede-43f8-c70d-9d54465ff016"
      },
      "source": [
        "if True: \n",
        "  print('Hello World')"
      ],
      "execution_count": 1,
      "outputs": [
        {
          "output_type": "stream",
          "text": [
            "Hello World\n"
          ],
          "name": "stdout"
        }
      ]
    },
    {
      "cell_type": "code",
      "metadata": {
        "id": "MgQyW6gXBQuL"
      },
      "source": [
        "if False: \n",
        "  print('Hello World')"
      ],
      "execution_count": 3,
      "outputs": []
    },
    {
      "cell_type": "code",
      "metadata": {
        "colab": {
          "base_uri": "https://localhost:8080/"
        },
        "id": "PZCACdx8Bb2F",
        "outputId": "d55bb263-b57d-4d3c-bf3e-748402f234f0"
      },
      "source": [
        "if 30>20:\n",
        "  print( '30 es mayor que 20')\n",
        "  "
      ],
      "execution_count": 7,
      "outputs": [
        {
          "output_type": "stream",
          "text": [
            "30 es mayor que 20\n"
          ],
          "name": "stdout"
        }
      ]
    },
    {
      "cell_type": "code",
      "metadata": {
        "colab": {
          "base_uri": "https://localhost:8080/"
        },
        "id": "u0ElahsKBkCX",
        "outputId": "04edbeaf-d13a-41af-a841-72cc70ac9925"
      },
      "source": [
        "x=False\n",
        "if x:\n",
        "  print('x  es True')\n",
        "else:\n",
        "  print('x es False') \n"
      ],
      "execution_count": 10,
      "outputs": [
        {
          "output_type": "stream",
          "text": [
            "x es False\n"
          ],
          "name": "stdout"
        }
      ]
    },
    {
      "cell_type": "code",
      "metadata": {
        "colab": {
          "base_uri": "https://localhost:8080/"
        },
        "id": "vQC1m6olCMvB",
        "outputId": "3981f9f3-30d3-40a2-8936-de338cb80f12"
      },
      "source": [
        "temp=[12, 24, 30]\n",
        "i=1\n",
        "val=temp[i]\n",
        "if val>=30:\n",
        "  print('Hace mucho calor')\n",
        "elif (val>=20) & (val<30): \n",
        "  print('La temperatura es normal')\n",
        "else: \n",
        "  print('Hace mucho Frio')"
      ],
      "execution_count": 13,
      "outputs": [
        {
          "output_type": "stream",
          "text": [
            "La temperatura es normal\n"
          ],
          "name": "stdout"
        }
      ]
    },
    {
      "cell_type": "code",
      "metadata": {
        "id": "Pu10m8NUDZhs"
      },
      "source": [
        ""
      ],
      "execution_count": null,
      "outputs": []
    }
  ]
}